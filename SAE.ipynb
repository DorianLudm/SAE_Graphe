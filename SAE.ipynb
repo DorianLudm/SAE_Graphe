{
 "cells": [
  {
   "attachments": {},
   "cell_type": "markdown",
   "metadata": {},
   "source": [
    "# SAE 2.02 - Exploration algorithmique d'un problème\n",
    "## Ludmann Dorian et Maupou Cassandra  \n",
    "### Question 1:\n"
   ]
  },
  {
   "cell_type": "code",
   "execution_count": null,
   "metadata": {},
   "outputs": [
    {
     "ename": "",
     "evalue": "",
     "output_type": "error",
     "traceback": [
      "\u001b[1;31mRunning cells with 'c:\\Users\\doria\\AppData\\Local\\Programs\\Python\\Python311\\python.exe' requires the ipykernel package.\n",
      "\u001b[1;31mRun the following command to install 'ipykernel' into the Python environment. \n",
      "\u001b[1;31mCommand: 'c:/Users/doria/AppData/Local/Programs/Python/Python311/python.exe -m pip install ipykernel -U --user --force-reinstall'"
     ]
    }
   ],
   "source": [
    "import networkx as nx\n",
    "import json\n",
    "\n",
    "def charger_resultats(nom_fichier):\n",
    "    \"\"\"charge un fichier de résultats au DNB donné au format CSV en une liste de résultats\n",
    "\n",
    "    Args:\n",
    "        nom_fichier (str): nom du fichier CSV contenant les résultats au DNB\n",
    "\n",
    "    Returns:\n",
    "        list: la liste des résultats contenus dans le fichier\n",
    "    \"\"\"\n",
    "    #Initialisation\n",
    "    liste_resultats = {}\n",
    "    fic = open(nom_fichier, 'r')\n",
    "    fic.readline()\n",
    "    #Pour chaque ligne du fichier\n",
    "    for ligne in fic:\n",
    "        titrePresent = False\n",
    "        dic_ligne = json.loads(ligne)\n",
    "        dic_translated_ligne = {}\n",
    "        #Pour chaque clé et valeur associé au dictionnaire de la ligne\n",
    "        for(key,value) in dic_ligne.items():\n",
    "            if key == \"title\":\n",
    "                title_value = value\n",
    "                titrePresent = True\n",
    "            elif key != \"year\":\n",
    "                value2 = []\n",
    "                for elem in value:\n",
    "                    elem2 = elem.replace(\"]]\",\"\").replace(\"[[\",\"\")\n",
    "                    value2.append(elem2)\n",
    "                dic_translated_ligne[key] = value2\n",
    "            else:\n",
    "                dic_translated_ligne[key] = value\n",
    "        #Ajout au dictionnaire si et seulement si un titre a été identifier\n",
    "        if titrePresent:\n",
    "            liste_resultats[title_value] = dic_translated_ligne\n",
    "    return liste_resultats\n",
    "\n",
    "def getGraph(dic ,dir_Included=False):\n",
    "    \"\"\"Construit un graphe networkx à partir d'un dictionnaire\n",
    "    Args:\n",
    "        dic (dic): Le dictionnaire des données du graphe\n",
    "        dir_Included (boolean): Booléen auquel est associé si les directeurs deviennent sommet dans le graphe ou non\n",
    "    \"\"\"\n",
    "    G = nx.Graph()\n",
    "    i = 0\n",
    "    bool = False\n",
    "    for value in dic.values():\n",
    "        if dir_Included:\n",
    "            ensemble = set()\n",
    "            for(key,item) in value.items():\n",
    "                if key == \"cast\" or key == \"directors\":\n",
    "                    for personne in item:\n",
    "                        ensemble.add(personne)    \n",
    "            for elem1 in ensemble:\n",
    "                for elem2 in ensemble:\n",
    "                    if elem1 != elem2:\n",
    "                        G.add_edge(elem1,elem2)\n",
    "        else:\n",
    "            for elem1 in value[\"cast\"]:\n",
    "                for elem2 in value[\"cast\"]:\n",
    "                    if elem1 != elem2:\n",
    "                        G.add_edge(elem1,elem2)\n",
    "        \n",
    "    return(G)"
   ]
  },
  {
   "cell_type": "code",
   "execution_count": 11,
   "metadata": {},
   "outputs": [],
   "source": [
    "dic_Bacon = charger_resultats(\"data.json\")\n",
    "G = getGraph(dic_Bacon)"
   ]
  },
  {
   "attachments": {},
   "cell_type": "markdown",
   "metadata": {},
   "source": [
    "### Question 2:"
   ]
  },
  {
   "cell_type": "code",
   "execution_count": 12,
   "metadata": {},
   "outputs": [],
   "source": [
    "def collaborateurCommun(G, personne1, personne2):\n",
    "    \"\"\"Donne la liste des acteurs ayant pour collaborateur direct deux acteurs donnés\n",
    "\n",
    "    Args:\n",
    "        G (networkx.graph): Le graphe\n",
    "        personne1 (str): le nom de l'acteur 1\n",
    "        personne2 (str): le nom de l'acteur 2\n",
    "    Returns:\n",
    "        list: la liste des acteurs étant collaborateur commun des deux acteurs donnés en paramètre\n",
    "    \"\"\"\n",
    "    res = []\n",
    "    for collab in G[personne1]:\n",
    "        if collab in G[personne2] and collab != personne1:\n",
    "            res.append(collab)\n",
    "    return res"
   ]
  },
  {
   "cell_type": "code",
   "execution_count": 13,
   "metadata": {},
   "outputs": [
    {
     "name": "stdout",
     "output_type": "stream",
     "text": [
      "['Rutger Hauer', 'Sean Young', 'Edward James Olmos', 'M. Emmet Walsh', 'Daryl Hannah', 'William Sanderson', 'Brion James', 'Joanna Cassidy', 'James Hong', 'Morgan Paull', 'Hy Pyke', 'Richard Crenna', 'Candice Bergen', 'Gavin MacLeod', 'Philip Stone', 'Tony Burton', 'James Fox', 'Denholm Elliott', 'John Doucette', 'Chet Stratton']\n"
     ]
    }
   ],
   "source": [
    "print(collaborateurCommun(G, \"Joe Turkel\", \"Harrison Ford\"))\n",
    "\n",
    "#Temps estimé: Instantané"
   ]
  },
  {
   "attachments": {},
   "cell_type": "markdown",
   "metadata": {},
   "source": [
    "#### a. Comment exprimeriez-vous cette notion (ensemble de collaborateurs en commun) en termes de théorie des graphes ?  \n",
    "En théorie des graphes, l'ensemble des collaborateurs communs entre deux acteurs a1 et a2 est l'ensemble des sommets qui ont au minimum pour voisin les deux acteurs a1 et a2."
   ]
  },
  {
   "attachments": {},
   "cell_type": "markdown",
   "metadata": {},
   "source": [
    "#### b. Pouvez-vous donner une borne inférieure sur le temps nécessaire à l'exécution de votre fonction ?  \n",
    "O(1) <= T<sub>éxécution</sub> <= N² avec N = L'ordre du graphe G"
   ]
  },
  {
   "attachments": {},
   "cell_type": "markdown",
   "metadata": {},
   "source": [
    "### Question 3:"
   ]
  },
  {
   "attachments": {},
   "cell_type": "markdown",
   "metadata": {},
   "source": [
    "#### a. Reconnaissez-vous l'algorithme classique en théorie des graphes qui est au coeur de ce programme ?\n",
    "Cet algorithme reprend le BFS (Breadth-First Search, ou parcours en largeur) pour parcourir jusqu'à une distance donné l'ensemble des acteurs lié par une distance inférieure ou égal à l'acteur initiale."
   ]
  },
  {
   "attachments": {},
   "cell_type": "markdown",
   "metadata": {},
   "source": [
    "#### b. Grâce à la fonction précédente, comment pouvez-vous déterminer si un acteur se trouve à distance k d'un autre acteur ?\n",
    "Il suffit de modifier le code de cette facon suivante!"
   ]
  },
  {
   "cell_type": "code",
   "execution_count": 25,
   "metadata": {},
   "outputs": [],
   "source": [
    "def acteursDistanceDonnee(G,u,e, k):\n",
    "    \"\"\"Fonction renvoyant si l'acteur u et e sont séparé d'une distance k\n",
    "    \n",
    "    Parametres:\n",
    "        G (networkx.graph): Le graphe\n",
    "        u (str): le sommet de départ\n",
    "        e (str): le sommet d'arrivée\n",
    "        k (int): la distance depuis u\n",
    "    \"\"\"\n",
    "    if u not in G.nodes:\n",
    "        print(u,\"est un illustre inconnu\")\n",
    "        return None\n",
    "    collaborateurs = set()\n",
    "    collaborateurs.add(u)\n",
    "    for i in range(k):\n",
    "        collaborateurs_directs = set()\n",
    "        for c in collaborateurs:\n",
    "            for voisin in G.adj[c]:\n",
    "                if voisin not in collaborateurs:\n",
    "                    collaborateurs_directs.add(voisin)\n",
    "                    if voisin == e and i == k:\n",
    "                        return True\n",
    "        collaborateurs = collaborateurs.union(collaborateurs_directs)\n",
    "    return False"
   ]
  },
  {
   "attachments": {},
   "cell_type": "markdown",
   "metadata": {},
   "source": [
    "#### c. Tentons maintenant de déterminer la distance entre deux acteurs. Est-ce que réutiliser la fonction précédente vous semble intéressant ? Donnez la complexité d'un tel algorithme.\n",
    "Il peut être intéressant de reprendre la fonction donnée, de part le fait que la fonction utilise aussi le BFS."
   ]
  },
  {
   "attachments": {},
   "cell_type": "markdown",
   "metadata": {},
   "source": [
    "#### d. Comment pouvez-vous maintenant modifier la fonction qui vous a été fournie afin de trouver la distance entre deux acteurs ?"
   ]
  },
  {
   "cell_type": "code",
   "execution_count": null,
   "metadata": {},
   "outputs": [],
   "source": [
    "def distance_acteur(G, act1, act2):\n",
    "    \"\"\"Donne la distance entre deux acteurs donnés\n",
    "\n",
    "    Args:\n",
    "        G (networkx.graph): Le graphe\n",
    "        act1 (str): le nom de l'acteur 1\n",
    "        act2 (str): le nom de l'acteur 2\n",
    "    Returns:\n",
    "        int: la distance entre les acteurs\n",
    "    \"\"\"\n",
    "    if act1 in G.nodes() and act2 in G.nodes():\n",
    "        visited = []\n",
    "        queue = [act1]\n",
    "        i = -1\n",
    "        while queue:\n",
    "            node = queue.pop(0)\n",
    "            if node == act2:\n",
    "                        return i\n",
    "            if node not in visited:\n",
    "                visited.append(node)\n",
    "                i += 1         \n",
    "                for edge in G.edges:\n",
    "                    if edge[0] == node:\n",
    "                        queue.append(edge[1])\n",
    "                    elif edge[1] == node:\n",
    "                        queue.append(edge[0])\n",
    "    return None"
   ]
  },
  {
   "cell_type": "code",
   "execution_count": null,
   "metadata": {},
   "outputs": [],
   "source": [
    "print(distance_acteur(G, 'Michael Caine','Brandon Maggart'))"
   ]
  },
  {
   "attachments": {},
   "cell_type": "markdown",
   "metadata": {},
   "source": [
    "#### e. Donnez la complexité d'un tel algorithme.\n",
    "Cette fonction possède alors une compléxité de O(ΣN + ΣE) avec N sommet appartenant au graphe et E les arrêtes du graphe. La complexité de cet algorithme est donc égal à la somme du nombre de sommet et d'arrêtes d'un graphe G."
   ]
  },
  {
   "attachments": {},
   "cell_type": "markdown",
   "metadata": {},
   "source": [
    "### Question 4:\n",
    "On cherche maintenant à déterminer la centralité d'un acteur. Pour cela, on veut déterminer la plus grande distance qui le sépare d'un autre acteur dans le graphe."
   ]
  },
  {
   "attachments": {},
   "cell_type": "markdown",
   "metadata": {},
   "source": [
    "#### a. Quelle notion de théorie des graphes permet de modéliser cela ? Proposez une fonction qui calcule la centralité d'un acteur dans Gc. Le parcours en profondeur pourrait aider à modéliser la plus grande distance entre deux acteurs dans un graphe."
   ]
  },
  {
   "cell_type": "code",
   "execution_count": 16,
   "metadata": {},
   "outputs": [],
   "source": [
    "def centralite_acteur(graph, acteur):\n",
    "    \"\"\"Donne la centralité d'un acteur donné\n",
    "\n",
    "    Args:\n",
    "        graph (networkx.graph): Le graphe\n",
    "        acteur (str): le nom de l'acteur\n",
    "    Returns:\n",
    "        int: la centralité de l'acteur\n",
    "    \"\"\"\n",
    "    visited = []\n",
    "    queue = [acteur]\n",
    "    i = -1\n",
    "    while queue:\n",
    "        node = queue.pop(0)\n",
    "        if node not in visited:\n",
    "            visited.append(node)\n",
    "            i += 1         \n",
    "            for edge in graph.edges:\n",
    "                if edge[0] == node:\n",
    "                    queue.append(edge[1])\n",
    "                elif edge[1] == node:\n",
    "                    queue.append(edge[0])\n",
    "    return i"
   ]
  },
  {
   "cell_type": "code",
   "execution_count": null,
   "metadata": {},
   "outputs": [],
   "source": [
    "print(centralite_acteur(G,\"Patrick Stewart\"))"
   ]
  },
  {
   "attachments": {},
   "cell_type": "markdown",
   "metadata": {},
   "source": [
    "#### b. A l'aide de la fonction précédente, écrivez une autre fonction qui va déterminer l'acteur le plus central du graphe Gc."
   ]
  },
  {
   "cell_type": "code",
   "execution_count": null,
   "metadata": {},
   "outputs": [],
   "source": [
    "def centralite(graph):\n",
    "    \"\"\"Donne l'acteur central du graphe\n",
    "\n",
    "    Args:\n",
    "        graph (networkx.graph): Le graphe\n",
    "    Returns:\n",
    "        str: l'acteur central du graphe\n",
    "    \"\"\"\n",
    "    ppc = 0\n",
    "    acteur_res = \"\"\n",
    "    centralite_a = 0\n",
    "    for acteur in G.nodes():\n",
    "        ppc = centralite_acteur(graph, acteur)\n",
    "        break\n",
    "    for acteur in G.nodes():\n",
    "        centralite_a = centralite_acteur(graph, acteur)\n",
    "        if centralite_a < ppc:\n",
    "            ppc = centralite_a\n",
    "    return acteur_res"
   ]
  },
  {
   "cell_type": "code",
   "execution_count": 15,
   "metadata": {},
   "outputs": [
    {
     "ename": "KeyboardInterrupt",
     "evalue": "",
     "output_type": "error",
     "traceback": [
      "\u001b[0;31m---------------------------------------------------------------------------\u001b[0m",
      "\u001b[0;31mKeyboardInterrupt\u001b[0m                         Traceback (most recent call last)",
      "\u001b[0;32m/tmp/ipykernel_7676/4050260262.py\u001b[0m in \u001b[0;36m<module>\u001b[0;34m\u001b[0m\n\u001b[0;32m----> 1\u001b[0;31m \u001b[0mprint\u001b[0m\u001b[0;34m(\u001b[0m\u001b[0mcentralite_acteur\u001b[0m\u001b[0;34m(\u001b[0m\u001b[0mG\u001b[0m\u001b[0;34m,\u001b[0m\u001b[0;34m\"Patrick Stewart\"\u001b[0m\u001b[0;34m)\u001b[0m\u001b[0;34m)\u001b[0m\u001b[0;34m\u001b[0m\u001b[0;34m\u001b[0m\u001b[0m\n\u001b[0m",
      "\u001b[0;32m/tmp/ipykernel_7676/386902392.py\u001b[0m in \u001b[0;36mcentralite_acteur\u001b[0;34m(graph, acteur)\u001b[0m\n\u001b[1;32m      8\u001b[0m             \u001b[0mvisited\u001b[0m\u001b[0;34m.\u001b[0m\u001b[0mappend\u001b[0m\u001b[0;34m(\u001b[0m\u001b[0mnode\u001b[0m\u001b[0;34m)\u001b[0m\u001b[0;34m\u001b[0m\u001b[0;34m\u001b[0m\u001b[0m\n\u001b[1;32m      9\u001b[0m             \u001b[0mi\u001b[0m \u001b[0;34m+=\u001b[0m \u001b[0;36m1\u001b[0m\u001b[0;34m\u001b[0m\u001b[0;34m\u001b[0m\u001b[0m\n\u001b[0;32m---> 10\u001b[0;31m             \u001b[0;32mfor\u001b[0m \u001b[0medge\u001b[0m \u001b[0;32min\u001b[0m \u001b[0mgraph\u001b[0m\u001b[0;34m.\u001b[0m\u001b[0medges\u001b[0m\u001b[0;34m:\u001b[0m\u001b[0;34m\u001b[0m\u001b[0;34m\u001b[0m\u001b[0m\n\u001b[0m\u001b[1;32m     11\u001b[0m                 \u001b[0;32mif\u001b[0m \u001b[0medge\u001b[0m\u001b[0;34m[\u001b[0m\u001b[0;36m0\u001b[0m\u001b[0;34m]\u001b[0m \u001b[0;34m==\u001b[0m \u001b[0mnode\u001b[0m\u001b[0;34m:\u001b[0m\u001b[0;34m\u001b[0m\u001b[0;34m\u001b[0m\u001b[0m\n\u001b[1;32m     12\u001b[0m                     \u001b[0mqueue\u001b[0m\u001b[0;34m.\u001b[0m\u001b[0mappend\u001b[0m\u001b[0;34m(\u001b[0m\u001b[0medge\u001b[0m\u001b[0;34m[\u001b[0m\u001b[0;36m1\u001b[0m\u001b[0;34m]\u001b[0m\u001b[0;34m)\u001b[0m\u001b[0;34m\u001b[0m\u001b[0;34m\u001b[0m\u001b[0m\n",
      "\u001b[0;32m/usr/lib/python3/dist-packages/networkx/classes/reportviews.py\u001b[0m in \u001b[0;36m__iter__\u001b[0;34m(self)\u001b[0m\n\u001b[1;32m   1027\u001b[0m         \u001b[0;32mfor\u001b[0m \u001b[0mn\u001b[0m\u001b[0;34m,\u001b[0m \u001b[0mnbrs\u001b[0m \u001b[0;32min\u001b[0m \u001b[0mself\u001b[0m\u001b[0;34m.\u001b[0m\u001b[0m_nodes_nbrs\u001b[0m\u001b[0;34m(\u001b[0m\u001b[0;34m)\u001b[0m\u001b[0;34m:\u001b[0m\u001b[0;34m\u001b[0m\u001b[0;34m\u001b[0m\u001b[0m\n\u001b[1;32m   1028\u001b[0m             \u001b[0;32mfor\u001b[0m \u001b[0mnbr\u001b[0m \u001b[0;32min\u001b[0m \u001b[0mlist\u001b[0m\u001b[0;34m(\u001b[0m\u001b[0mnbrs\u001b[0m\u001b[0;34m)\u001b[0m\u001b[0;34m:\u001b[0m\u001b[0;34m\u001b[0m\u001b[0;34m\u001b[0m\u001b[0m\n\u001b[0;32m-> 1029\u001b[0;31m                 \u001b[0;32mif\u001b[0m \u001b[0mnbr\u001b[0m \u001b[0;32mnot\u001b[0m \u001b[0;32min\u001b[0m \u001b[0mseen\u001b[0m\u001b[0;34m:\u001b[0m\u001b[0;34m\u001b[0m\u001b[0;34m\u001b[0m\u001b[0m\n\u001b[0m\u001b[1;32m   1030\u001b[0m                     \u001b[0;32myield\u001b[0m \u001b[0;34m(\u001b[0m\u001b[0mn\u001b[0m\u001b[0;34m,\u001b[0m \u001b[0mnbr\u001b[0m\u001b[0;34m)\u001b[0m\u001b[0;34m\u001b[0m\u001b[0;34m\u001b[0m\u001b[0m\n\u001b[1;32m   1031\u001b[0m             \u001b[0mseen\u001b[0m\u001b[0;34m[\u001b[0m\u001b[0mn\u001b[0m\u001b[0;34m]\u001b[0m \u001b[0;34m=\u001b[0m \u001b[0;36m1\u001b[0m\u001b[0;34m\u001b[0m\u001b[0;34m\u001b[0m\u001b[0m\n",
      "\u001b[0;31mKeyboardInterrupt\u001b[0m: "
     ]
    }
   ],
   "source": [
    "print(centralite(G))"
   ]
  },
  {
   "attachments": {},
   "cell_type": "markdown",
   "metadata": {},
   "source": [
    "### Question 5:\n",
    "Nous allons maintenant tenter de déterminer si deux acteurs peuvent être très éloignés dans Gc. Plus précisément, vous fournirez une fonction permettant de déterminer la distance maximum dans Gc entre toute paire d'acteurs/actrices."
   ]
  },
  {
   "cell_type": "code",
   "execution_count": 18,
   "metadata": {},
   "outputs": [],
   "source": [
    "def plusGrandeDistanceEntreActeurs(graph):\n",
    "    \"\"\"Retourne la plus grande distance possible entre toute paire d'acteur\n",
    "    Args:\n",
    "        graph (networkx.graph): Le graphe\n",
    "    Returns:\n",
    "        int: la plus grande distance possible\n",
    "    \"\"\"\n",
    "    best_distance = None\n",
    "    for acteur1 in G.nodes():\n",
    "        for acteur2 in G.nodes():\n",
    "            if acteur1 != acteur2:\n",
    "                distance = distance_acteur(G, acteur1, acteur2)\n",
    "                if best_distance == None or distance > best_distance:\n",
    "                    best_distance = distance\n",
    "    return best_distance"
   ]
  },
  {
   "cell_type": "code",
   "execution_count": 19,
   "metadata": {},
   "outputs": [
    {
     "ename": "NameError",
     "evalue": "name 'distance_acteur' is not defined",
     "output_type": "error",
     "traceback": [
      "\u001b[0;31m---------------------------------------------------------------------------\u001b[0m",
      "\u001b[0;31mNameError\u001b[0m                                 Traceback (most recent call last)",
      "\u001b[0;32m/tmp/ipykernel_7676/1902326040.py\u001b[0m in \u001b[0;36m<module>\u001b[0;34m\u001b[0m\n\u001b[0;32m----> 1\u001b[0;31m \u001b[0mprint\u001b[0m\u001b[0;34m(\u001b[0m\u001b[0mplusGrandeDistanceEntreActeurs\u001b[0m\u001b[0;34m(\u001b[0m\u001b[0mG\u001b[0m\u001b[0;34m)\u001b[0m\u001b[0;34m)\u001b[0m\u001b[0;34m\u001b[0m\u001b[0;34m\u001b[0m\u001b[0m\n\u001b[0m",
      "\u001b[0;32m/tmp/ipykernel_7676/1765069571.py\u001b[0m in \u001b[0;36mplusGrandeDistanceEntreActeurs\u001b[0;34m(graph)\u001b[0m\n\u001b[1;32m      4\u001b[0m         \u001b[0;32mfor\u001b[0m \u001b[0macteur2\u001b[0m \u001b[0;32min\u001b[0m \u001b[0mG\u001b[0m\u001b[0;34m.\u001b[0m\u001b[0mnodes\u001b[0m\u001b[0;34m(\u001b[0m\u001b[0;34m)\u001b[0m\u001b[0;34m:\u001b[0m\u001b[0;34m\u001b[0m\u001b[0;34m\u001b[0m\u001b[0m\n\u001b[1;32m      5\u001b[0m             \u001b[0;32mif\u001b[0m \u001b[0macteur1\u001b[0m \u001b[0;34m!=\u001b[0m \u001b[0macteur2\u001b[0m\u001b[0;34m:\u001b[0m\u001b[0;34m\u001b[0m\u001b[0;34m\u001b[0m\u001b[0m\n\u001b[0;32m----> 6\u001b[0;31m                 \u001b[0mdistance\u001b[0m \u001b[0;34m=\u001b[0m \u001b[0mdistance_acteur\u001b[0m\u001b[0;34m(\u001b[0m\u001b[0mG\u001b[0m\u001b[0;34m,\u001b[0m \u001b[0macteur1\u001b[0m\u001b[0;34m,\u001b[0m \u001b[0macteur2\u001b[0m\u001b[0;34m)\u001b[0m\u001b[0;34m\u001b[0m\u001b[0;34m\u001b[0m\u001b[0m\n\u001b[0m\u001b[1;32m      7\u001b[0m                 \u001b[0;32mif\u001b[0m \u001b[0mbest_distance\u001b[0m \u001b[0;34m==\u001b[0m \u001b[0;32mNone\u001b[0m \u001b[0;32mor\u001b[0m \u001b[0mdistance\u001b[0m \u001b[0;34m>\u001b[0m \u001b[0mbest_distance\u001b[0m\u001b[0;34m:\u001b[0m\u001b[0;34m\u001b[0m\u001b[0;34m\u001b[0m\u001b[0m\n\u001b[1;32m      8\u001b[0m                     \u001b[0mbest_distance\u001b[0m \u001b[0;34m=\u001b[0m \u001b[0mdistance\u001b[0m\u001b[0;34m\u001b[0m\u001b[0;34m\u001b[0m\u001b[0m\n",
      "\u001b[0;31mNameError\u001b[0m: name 'distance_acteur' is not defined"
     ]
    }
   ],
   "source": [
    "print(plusGrandeDistanceEntreActeurs(G))"
   ]
  },
  {
   "attachments": {},
   "cell_type": "markdown",
   "metadata": {},
   "source": [
    "### Question 6:"
   ]
  },
  {
   "attachments": {},
   "cell_type": "markdown",
   "metadata": {},
   "source": [
    "#### a. Proposez une méthode similaire à celle calculant le centre du graphe mais qui se restrint ici à déterminer le centre d'un groupe d'acteur (On remarquera qu'un tel sommet ne fait nécessairement partie du groupe en question)."
   ]
  },
  {
   "cell_type": "code",
   "execution_count": null,
   "metadata": {},
   "outputs": [],
   "source": [
    "def centre_groupe_acteurs(G, groupe_acteurs):\n",
    "    \"\"\"\n",
    "    Détermine le ou les acteurs central/centraux d'un groupe d'acteurs dans un graphe.\n",
    "\n",
    "    Args:\n",
    "        G (networkx.Graph): Le graphe.\n",
    "        groupe_acteurs (list): Une liste d'acteurs.\n",
    "\n",
    "    Returns:\n",
    "        list(str): La liste des noms des acteurs centraux\n",
    "    \"\"\"\n",
    "    res = []\n",
    "    distance_min = None\n",
    "\n",
    "    for acteur in groupe_acteurs:\n",
    "        centralite = centralite_acteur(G, acteur)\n",
    "        if distance_min is None or centralite < distance_min:\n",
    "            distance_min = centralite\n",
    "            res = [acteur]\n",
    "        elif centralite == distance_min:\n",
    "            res.append(acteur)\n",
    "\n",
    "    return res"
   ]
  },
  {
   "attachments": {},
   "cell_type": "markdown",
   "metadata": {},
   "source": [
    "#### b. Faites en sorte, que quand cela a du sens, que vos fonctions renvoient un sous-graphe de Gc plutôt qu'une simple liste d'acteurs. Par exemple, proposer une vatiante de la fonction déterminant les collaborateurs proches d'un sommet v qui renverra le sous-graphe induit par v et par tous les sommets à distance k de v."
   ]
  },
  {
   "cell_type": "code",
   "execution_count": null,
   "metadata": {},
   "outputs": [],
   "source": [
    "def sous_graphe_collaborateurs_communs(G, first_acteur, second_acteur):\n",
    "    \"\"\"\n",
    "    Renvoie le sous-graphe induit par les collaborateurs communs entre deux acteurs.\n",
    "\n",
    "    Args:\n",
    "        G (networkx.Graph): Le graphe.\n",
    "        first_acteur (str): Le nom du premier acteur.\n",
    "        second_acteur (str): Le nom du deuxième acteur.\n",
    "\n",
    "    Returns:\n",
    "        networkx.Graph: Le sous-graphe induit par les collaborateurs communs des acteurs de départ.\n",
    "    \"\"\"\n",
    "    if first_acteur not in G.nodes or second_acteur not in G.nodes:\n",
    "            return None\n",
    "    if first_acteur == second_acteur:\n",
    "        return G.subgraph([first_acteur])\n",
    "    res = set(first_acteur, second_acteur)\n",
    "    for acteur in G.adj[first_acteur]:\n",
    "        if acteur in G.adj[second_acteur]:\n",
    "            res.add(acteur)\n",
    "    return G.subgraph(res)"
   ]
  },
  {
   "attachments": {},
   "cell_type": "markdown",
   "metadata": {},
   "source": [
    "### Question 7:\n",
    "L'efficacité de l'ensemble de vos méthodes, tant sur le temps d'exécution que sur la mémoire utilisée, est bien entendu essentielle. Par exemple, calculer la distance entre 2 sommets peut se faire de différentes manières, comme évoqué précédemment, impliquant des temps de calcul différents. Il est égaliement possible de pré-calculer un certain nombre de distance et d'utiliser ces informations pour calculer des distances entre des paires de sommets plus éloignés. Pour cette dernière partie du travail, vous vous attacherez donc à proposer différentes implémentations du calcul de distance et à évaluer ces différentes propositions. La description de vos évaluations expérimentales ainsi que vos conclusions devront apparaître dans votre rapport.  "
   ]
  },
  {
   "cell_type": "code",
   "execution_count": null,
   "metadata": {},
   "outputs": [],
   "source": [
    "def distance_acteur(G, act1, act2, dic=None):\n",
    "    \"\"\"Donne la distance entre deux acteurs donnés\n",
    "\n",
    "    Args:\n",
    "        G (networkx.graph): Le graphe\n",
    "        act1 (str): le nom de l'acteur 1\n",
    "        act2 (str): le nom de l'acteur 2\n",
    "        dic (dic): le dictionnaire (K,V) avec K le couple de sommet, et V la distance entre ces deux sommets\n",
    "    Returns:\n",
    "        int: la distance entre les acteurs\n",
    "    \"\"\"\n",
    "    if dic == None:\n",
    "        dic = {}\n",
    "    if act1 in G.nodes() and act2 in G.nodes():\n",
    "        visited = []\n",
    "        queue = [act1]\n",
    "        i = -1\n",
    "        while queue:\n",
    "            node = queue.pop(0)\n",
    "            if node == act2:\n",
    "                        return i\n",
    "            if (act1, node) in dic.keys():\n",
    "                return dic[(act1, node)] + i\n",
    "            if (node, act1) in dic.keys():\n",
    "                return dic[(node, act1)] + i\n",
    "            if node not in visited:\n",
    "                dic[(act1, node)] = i\n",
    "                visited.append(node)\n",
    "                i += 1         \n",
    "                for edge in G.edges:\n",
    "                    if edge[0] == node:\n",
    "                        queue.append(edge[1])\n",
    "                    elif edge[1] == node:\n",
    "                        queue.append(edge[0])\n",
    "    return None"
   ]
  }
 ],
 "metadata": {
  "kernelspec": {
   "display_name": "Python 3 (ipykernel)",
   "language": "python",
   "name": "python3"
  },
  "language_info": {
   "codemirror_mode": {
    "name": "ipython",
    "version": 3
   },
   "file_extension": ".py",
   "mimetype": "text/x-python",
   "name": "python",
   "nbconvert_exporter": "python",
   "pygments_lexer": "ipython3",
   "version": "3.11.0"
  }
 },
 "nbformat": 4,
 "nbformat_minor": 2
}
